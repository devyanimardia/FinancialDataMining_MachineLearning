{
 "cells": [
  {
   "cell_type": "code",
   "execution_count": 22,
   "metadata": {},
   "outputs": [],
   "source": [
    "## NAME:Devyani Mardia\n",
    "## NETID: dm1633\n",
    "\n",
    "################\n",
    "## Code for HW 2 problem 1\n",
    "##\n",
    "## INSTRUCTIONS:\n",
    "## The following file implements logistic lasso:\n",
    "##    min_{beta}  \\sum_{i=1}^n - Y_i (X_i^T beta) + log(1 + exp(X_i^T beta))   + lambda * |beta|_1\n",
    "##\n",
    "## We use proximal gradient descent, i.e., ISTA but with a different gradient.\n",
    "## \n",
    "## Fill in the code in parts labeled \"FILL IN\". There are FIVE parts that you have to fill in.\n",
    "##\n",
    "################\n",
    "\n",
    "import numpy as np\n"
   ]
  },
  {
   "cell_type": "code",
   "execution_count": 23,
   "metadata": {
    "id": "jZlV7GRVRDxD"
   },
   "outputs": [],
   "source": [
    "\n",
    "## logistic lasso\n",
    "## INPUT: X  n--by--p matrix, Y n--by--1 vector, lambda scalar\n",
    "## OUTPUT: beta p--by--1 vector\n",
    "##\n",
    "def logisticLasso(X, Y, lambd):\n",
    "    p = X.shape[1]\n",
    "    n = X.shape[0]\n",
    "    \n",
    "    beta = np.ones(p)/p\n",
    "    stepsize = 1\n",
    "    \n",
    "    # parameter for backtracking line search\n",
    "    alpha = 0.05\n",
    "    gamma = 0.8\n",
    "    \n",
    "    it = 0\n",
    "    while True:\n",
    "        cur_obj = logisticLassoObj(X, Y, beta, lambd)\n",
    "        \n",
    "        xb = X @ beta\n",
    "        phi = np.exp(xb)/(1 + np.exp(xb))\n",
    "        \n",
    "        # compute gradient update\n",
    "        gradient = X.T @ (phi - Y)\n",
    "        ## FILL IN: compute the gradient\n",
    "        beta_new = softThresh(beta - stepsize*gradient, lambd*stepsize)## FILL IN: compute the new beta\n",
    "        \n",
    "        # backtracking line search\n",
    "        while (logisticLassoObj(X, Y, beta_new, lambd) > cur_obj + alpha * np.sum( (beta_new - beta)*gradient ) ):\n",
    "            stepsize = stepsize * gamma\n",
    "            beta_new = softThresh(beta - stepsize*gradient, lambd*stepsize)\n",
    "        \n",
    "        it = it+1\n",
    "\n",
    "        if it % 2 == 0:\n",
    "            print(\"iteration: %d   objective: %.4f   stepsize (log10): %.4f\" % \n",
    "                  (it, logisticLassoObj(X, Y, beta_new, lambd), np.log10(stepsize)))\n",
    "            \n",
    "        if np.sum((beta - beta_new)**2)/np.sum(beta**2) < 1e-10:\n",
    "            return beta_new\n",
    "        else:\n",
    "            beta = beta_new\n"
   ]
  },
  {
   "cell_type": "code",
   "execution_count": 24,
   "metadata": {
    "colab": {
     "base_uri": "https://localhost:8080/"
    },
    "id": "sRJUTRMeSN6N",
    "outputId": "21ea94d3-a58f-468e-fc62-4064670c42ff"
   },
   "outputs": [],
   "source": [
    "def softThresh(u, lambd):\n",
    "    u[abs(u) <= lambd] = 0\n",
    "    u[u > lambd] = u[u > lambd] - lambd\n",
    "    u[u < -lambd] = u[u < -lambd] + lambd\n",
    "    return u\n",
    "\n",
    "\n",
    "## INPUT: vector x\n",
    "## OUTPUT: vector of e^x/(1 + e^x)\n",
    "def sigmoid(x):\n",
    "    return np.exp(x)/(1 + np.exp(x))"
   ]
  },
  {
   "cell_type": "code",
   "execution_count": 25,
   "metadata": {
    "id": "TlJXcWp3S-nP"
   },
   "outputs": [],
   "source": [
    "## OUTPUT: objective of the logistic lasso loss, a single scalar\n",
    "def logisticLassoObj(X, Y, beta, lambd):\n",
    "    \n",
    "    obj = np.sum(-Y * (X @ beta) + np.log(1 + np.exp(X @ beta))) + lambd * np.linalg.norm(beta, ord=1)\n",
    "                ## FILL IN: compute the logistic lasso objective\n",
    "                ##        \\sum_{i=1}^n - Y_i (X_i^T beta) + log(1 + exp(X_i^T beta))  + lambda * |beta|_1\n",
    "                ##          with respect to X, Y, beta, lambda\n",
    "    \n",
    "    return obj\n"
   ]
  },
  {
   "cell_type": "code",
   "execution_count": 26,
   "metadata": {
    "colab": {
     "base_uri": "https://localhost:8080/"
    },
    "id": "GV8lGZPYTNoQ",
    "outputId": "1a9e15d7-033c-44b1-a492-156a17bced59"
   },
   "outputs": [
    {
     "name": "stdout",
     "output_type": "stream",
     "text": [
      "iteration: 2   objective: 254.7932   stepsize (log10): -1.5506\n",
      "iteration: 4   objective: 235.3171   stepsize (log10): -1.5506\n",
      "iteration: 6   objective: 235.1317   stepsize (log10): -1.7444\n",
      "iteration: 8   objective: 235.0110   stepsize (log10): -1.8413\n",
      "iteration: 10   objective: 235.0030   stepsize (log10): -2.8104\n",
      "Estimation error: 0.0888   Deviation from Sklearn solution: 0.0000\n"
     ]
    }
   ],
   "source": [
    "###############\n",
    "###############\n",
    "## \n",
    "## Testing our algorithm\n",
    "## \n",
    "###############\n",
    "###############\n",
    "\n",
    "from sklearn.linear_model import LogisticRegression\n",
    "\n",
    "np.random.seed(1)\n",
    "\n",
    "p = 100\n",
    "n = 500\n",
    "s = 5\n",
    "\n",
    "beta = np.concatenate((np.random.normal(size=s), np.zeros(p-s)))\n",
    "\n",
    "X = np.random.normal(size=(n, p))\n",
    "Y = np.sign(X @ beta + np.random.normal(size=n) * 0.3)\n",
    "Y[Y == -1] = 0\n",
    "\n",
    "lambd = 0.05\n",
    "\n",
    "betahat = logisticLasso(X, Y, lambd * n)\n",
    "\n",
    "clf = LogisticRegression(penalty='l1', solver='liblinear', C=1/(n*lambd), fit_intercept=False)\n",
    "clf.fit(X, Y)\n",
    "betahat2 = clf.coef_.ravel()\n",
    "\n",
    "estimation_err = np.sum((betahat - beta)**2)/np.sum(beta**2)\n",
    "dist_to_skl = np.sum((betahat2 - betahat)**2)/np.sum(betahat2**2)\n",
    "\n",
    "print(\"Estimation error: %.4f   Deviation from Sklearn solution: %.4f\" % (estimation_err, dist_to_skl))\n"
   ]
  }
 ],
 "metadata": {
  "colab": {
   "provenance": []
  },
  "kernelspec": {
   "display_name": "Python 3 (ipykernel)",
   "language": "python",
   "name": "python3"
  },
  "language_info": {
   "codemirror_mode": {
    "name": "ipython",
    "version": 3
   },
   "file_extension": ".py",
   "mimetype": "text/x-python",
   "name": "python",
   "nbconvert_exporter": "python",
   "pygments_lexer": "ipython3",
   "version": "3.9.12"
  }
 },
 "nbformat": 4,
 "nbformat_minor": 1
}
