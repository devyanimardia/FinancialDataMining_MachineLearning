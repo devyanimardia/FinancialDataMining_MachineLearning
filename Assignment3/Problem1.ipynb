{
 "cells": [
  {
   "cell_type": "code",
   "execution_count": 1,
   "metadata": {
    "ExecuteTime": {
     "end_time": "2023-04-13T19:37:15.709872Z",
     "start_time": "2023-04-13T19:37:15.683889Z"
    }
   },
   "outputs": [],
   "source": [
    "## NAME:Devyani Mardia\n",
    "## NETID: dm1633\n",
    "## Group members: David & Devyani\n",
    "\n",
    "\n",
    "################\n",
    "## Code for HW 3 problem 1\n",
    "##\n",
    "## INSTRUCTIONS:\n",
    "##\n",
    "## The following file implements Kernel Ridge Regression with\n",
    "## Gaussian (RBF) Kernel.\n",
    "##\n",
    "## It uses KRR to predict the housing price on the Boston\n",
    "## Housing Data-set, where each row is a small neighborhood\n",
    "## in Boston and where the features describe the environment\n",
    "## of the neighborhood.\n",
    "##\n",
    "## Fill in the code in parts labeled \"FILL IN\".\n",
    "## There are 4 parts where you have to fill in.\n",
    "##\n",
    "##\n",
    "################\n",
    "\n",
    "import numpy as np\n",
    "import pandas as pd\n",
    "\n",
    "np.random.seed(1)\n",
    "\n",
    "houses = pd.read_csv(\"Boston.csv\")\n",
    "\n",
    "features = houses.columns.values\n",
    "features = features[np.logical_not(np.isin(features, [\"X\", \"medv\"]))]\n",
    "\n",
    "# Response variable\n",
    "Y = houses[\"medv\"].to_numpy()\n",
    "\n",
    "# Features\n",
    "X = houses[features].to_numpy()\n",
    "\n",
    "# Normalize X (so units are standardized)\n",
    "X = (X - np.mean(X, axis=0)) / np.std(X, axis=0)\n",
    "\n",
    "n = 300\n",
    "\n",
    "test_ixs = np.random.choice(houses.shape[0], houses.shape[0] - n, replace=False)\n",
    "learn_ixs = [x for x in range(houses.shape[0]) if x not in test_ixs]\n",
    "\n",
    "Xlearn = X[learn_ixs, :]\n",
    "Ylearn = Y[learn_ixs]\n",
    "\n",
    "Xtest = X[test_ixs, :]\n",
    "Ytest = Y[test_ixs]"
   ]
  },
  {
   "cell_type": "code",
   "execution_count": 2,
   "metadata": {
    "ExecuteTime": {
     "end_time": "2023-04-13T20:00:22.201317Z",
     "start_time": "2023-04-13T20:00:13.129995Z"
    }
   },
   "outputs": [],
   "source": [
    "## Cross validation to select bandwidth and lambda\n",
    "\n",
    "nfold = 5\n",
    "fold_mat = np.arange(n).reshape(int(n/nfold), nfold)\n",
    "\n",
    "## We have to select both bandwidth and regularization parameter\n",
    "lambda_ls = np.concatenate(([0], float(2) ** np.arange(-8, 7, 1)))\n",
    "bandwidth_ls = float(2) ** np.arange(-6, 7, 1)\n",
    "\n",
    "valid_errs = np.zeros((nfold, len(bandwidth_ls), len(lambda_ls)))\n",
    "\n",
    "for k in range(nfold):\n",
    "    valid_ixs = fold_mat[:, k]\n",
    "    train_ixs = [x for x in range(Xlearn.shape[0]) if x not in valid_ixs]\n",
    "\n",
    "    Xtrain = Xlearn[train_ixs, :]\n",
    "    Ytrain = Ylearn[train_ixs]\n",
    "\n",
    "    Xvalid = Xlearn[valid_ixs, :]\n",
    "    Yvalid = Ylearn[valid_ixs]\n",
    "\n",
    "    ## computes all pairwise distances between data points in Xtrain\n",
    "    xtx = Xtrain @ Xtrain.T\n",
    "    xnorms = np.diag(xtx)\n",
    "    train_dists = np.ones((Xtrain.shape[0], 1)) @ xnorms.reshape(1, -1) - 2*xtx + xnorms.reshape(-1, 1) @ np.ones((1, Xtrain.shape[0]))\n",
    "    ## train_dists[i, i'] is the distance | Xtrain[i, :] - Xtrain[i', :] |^2\n",
    "\n",
    "    ## computes all pairwise distances between data points in Xvalid and Xtrain\n",
    "    xtx2 = Xvalid @ Xtrain.T\n",
    "    xnorms_valid = np.diag(Xvalid @ Xvalid.T)\n",
    "    train_valid_dists = np.ones((Xvalid.shape[0], 1)) @ xnorms.reshape(1, -1) - 2*xtx2 + xnorms_valid.reshape(-1, 1) @ np.ones((1, Xtrain.shape[0]))\n",
    "    ## train_valid_dists[i, i'] is the distance | Xvalid[i, :] - Xtrain[i', :] |^2\n",
    "\n",
    "    for j in range(len(bandwidth_ls)):\n",
    "        h = bandwidth_ls[j]\n",
    "\n",
    "        ## K[i, i'] contains K( Xtrain[i, :], Xtrain[i', :] )\n",
    "        K = np.exp(-train_dists / (h ** 2))\n",
    "\n",
    "        ## K2[i, i'] contains K( Xvalid[i, :], Xtrain[i', :] )\n",
    "        K2 = np.exp(-train_valid_dists / (h ** 2))\n",
    "\n",
    "        for l in range(len(lambda_ls)):\n",
    "            lambda_ = lambda_ls[l]\n",
    "\n",
    "            alpha = np.linalg.inv(   K + (lambda_ * np.identity(len(K)) )  ) @ Ytrain\n",
    "            ## Ypred[i] should be predicted value for Xvalid[i]\n",
    "\n",
    "            Ypred = np.zeros(len(Xvalid))\n",
    "            for v in range(len(Xvalid)):\n",
    "                val = 0\n",
    "                for m in range(len(Xtrain)):\n",
    "                    val = val + K2[v,m]*alpha[m]\n",
    "                Ypred[v] = val\n",
    "            # Ypred =  val ## FILL IN; see definition of \"K2\"\n",
    "            \n",
    "            valid_errs[k, j, l] = np.mean((Yvalid - Ypred)**2)\n",
    "            \n",
    "mean_valid_errs = np.apply_over_axes(np.mean, valid_errs, axes=(0,))\n"
   ]
  },
  {
   "cell_type": "code",
   "execution_count": 3,
   "metadata": {
    "ExecuteTime": {
     "end_time": "2023-04-13T20:00:43.559854Z",
     "start_time": "2023-04-13T20:00:43.538871Z"
    }
   },
   "outputs": [
    {
     "name": "stdout",
     "output_type": "stream",
     "text": [
      "Selected bandwidth: 8.000   lambda: 0.004\n"
     ]
    }
   ],
   "source": [
    "best_ix = np.argmin(mean_valid_errs, axis=None)\n",
    "best_ix2 = np.unravel_index(best_ix, mean_valid_errs.shape)\n",
    "\n",
    "hstar = bandwidth_ls[best_ix2[1]]\n",
    "lambda_star = lambda_ls[best_ix2[2]]\n",
    "\n",
    "print(f\"Selected bandwidth: {hstar:.3f}   lambda: {lambda_star:.3f}\")"
   ]
  },
  {
   "cell_type": "code",
   "execution_count": 4,
   "metadata": {
    "ExecuteTime": {
     "end_time": "2023-04-13T20:01:59.914937Z",
     "start_time": "2023-04-13T20:01:59.860365Z"
    }
   },
   "outputs": [
    {
     "name": "stdout",
     "output_type": "stream",
     "text": [
      "KRR MSE: 11.240   OLS MSE: 24.836\n",
      "KRR Test R-squared: 0.874   OLS Test R-squared: 0.723\n"
     ]
    }
   ],
   "source": [
    "## computes all pairwise distances between\n",
    "## data points in Xlearn\n",
    "xtx = Xlearn @ Xlearn.T\n",
    "xnorms_learn = np.diag(xtx)\n",
    "xlearn_dists = np.ones((Xlearn.shape[0], 1)) @ xnorms_learn.reshape(1, -1) - 2*xtx + xnorms_learn.reshape(-1, 1) @ np.ones((1, Xlearn.shape[0]))\n",
    "## xlearn_dists[i, i'] is the distance | Xlearn[i, ] - Xlearn[i', ] |^2\n",
    "\n",
    "\n",
    "## computes all pairwise distances between data points in\n",
    "## Xtest and Xlearn\n",
    "xtx2 = Xtest @ Xlearn.T\n",
    "xnorms_test = np.diag(Xtest @ Xtest.T)\n",
    "xlearn_test_dists = np.ones((Xtest.shape[0], 1)) @ xnorms_learn.reshape(1, -1) - 2*xtx2 + xnorms_test.reshape((-1, 1)) @ np.ones((1, Xlearn.shape[0]))\n",
    "## xlearn_test_dists[i, i'] is the distance | Xtest[i, ] - Xlearn[i', ] |^2\n",
    "\n",
    "## K[i, i'] contains K( Xlearn[i, ], Xlearn[i', ])\n",
    "K = np.exp(-xlearn_dists / (hstar** 2) )\n",
    "\n",
    "## K2[i, i'] contains K( Xtest[i, ], Xlearn[i', ])\n",
    "K2 = np.exp( -xlearn_test_dists / (hstar ** 2) )\n",
    "\n",
    "lambda_ = lambda_star\n",
    "\n",
    "alpha = np.linalg.inv(   K + (lambda_ * np.identity(len(K)) )  ) @ Ylearn\n",
    "## Ypred[i] should be predicted value for Xvalid[i]\n",
    "\n",
    "Ypred = np.zeros(len(Xtest))\n",
    "for v in range(len(Xtest)):\n",
    "    val = 0\n",
    "    for m in range(len(Xlearn)):\n",
    "        val = val + K2[v,m]*alpha[m]\n",
    "    Ypred[v] = val\n",
    "\n",
    "test_err = np.mean((Ytest - Ypred)**2)\n",
    "\n",
    "## Compute the MSE for OLS for comparison purpose\n",
    "Xlearn_a = np.concatenate((Xlearn, np.ones((Xlearn.shape[0], 1))), axis=1)\n",
    "Xtest_a = np.concatenate((Xtest, np.ones((Xtest.shape[0], 1))), axis=1)\n",
    "\n",
    "betahat = np.linalg.solve(Xlearn_a.T @ Xlearn_a, Xlearn_a.T @ Ylearn)\n",
    "Ypred2 = Xtest_a @ betahat\n",
    "test_err2 = np.mean((Ytest - Ypred2)**2)\n",
    "\n",
    "\n",
    "print(\"KRR MSE: %.3f   OLS MSE: %.3f\" % (test_err, test_err2))\n",
    "print(\"KRR Test R-squared: %.3f   OLS Test R-squared: %.3f\" % (1 - test_err/np.var(Ytest), 1 - test_err2/np.var(Ytest)))"
   ]
  },
  {
   "cell_type": "code",
   "execution_count": 5,
   "metadata": {
    "ExecuteTime": {
     "end_time": "2023-04-13T20:03:47.974716Z",
     "start_time": "2023-04-13T20:03:47.942695Z"
    }
   },
   "outputs": [
    {
     "data": {
      "text/plain": [
       "array([[[570.1088    , 570.1088    , 570.1088    , 570.1088    ,\n",
       "         570.1088    , 570.1088    , 570.1088    , 570.1088    ,\n",
       "         570.1088    , 570.1088    , 570.1088    , 570.1088    ,\n",
       "         570.1088    , 570.1088    , 570.1088    , 570.1088    ],\n",
       "        [570.1088    , 570.1088    , 570.1088    , 570.1088    ,\n",
       "         570.1088    , 570.1088    , 570.1088    , 570.1088    ,\n",
       "         570.1088    , 570.1088    , 570.1088    , 570.1088    ,\n",
       "         570.1088    , 570.1088    , 570.1088    , 570.1088    ],\n",
       "        [570.10879165, 570.10879168, 570.10879172, 570.10879178,\n",
       "         570.1087919 , 570.10879214, 570.10879258, 570.10879332,\n",
       "         570.10879443, 570.10879583, 570.10879722, 570.10879833,\n",
       "         570.10879907, 570.10879951, 570.10879975, 570.10879987],\n",
       "        [569.63100277, 569.63284096, 569.63466505, 569.63827162,\n",
       "         569.64532264, 569.65880923, 569.68355745, 569.72569722,\n",
       "         569.78906698, 569.86854945, 569.94833234, 570.01237507,\n",
       "         570.05517712, 570.08039476, 570.09416232, 570.10136732],\n",
       "        [549.34107996, 549.41082261, 549.48010397, 549.61730073,\n",
       "         549.88635248, 550.40402082, 551.36442094, 553.03116976,\n",
       "         555.61327987, 558.98328316, 562.5174454 , 565.46785764,\n",
       "         567.49786251, 568.71621933, 569.38848397, 569.74232022],\n",
       "        [426.59806534, 426.93425118, 427.26900097, 427.93423344,\n",
       "         429.24789591, 431.80990978, 436.68579507, 445.53547388,\n",
       "         460.24507353, 481.36141813, 506.05329912, 528.94153783,\n",
       "         546.08419946, 556.99555535, 563.23614557, 566.58742221],\n",
       "        [191.07707866, 191.38230425, 191.688167  , 192.30038794,\n",
       "         193.52376736, 195.96142841, 200.7926532 , 210.24080757,\n",
       "         228.1052081 , 259.45331625, 307.66752875, 369.33150118,\n",
       "         432.9553092 , 485.88965327, 522.50229283, 544.62830977],\n",
       "        [ 58.23427507,  57.77995438,  57.94856643,  58.43288025,\n",
       "          59.38790596,  61.01776545,  63.61136343,  67.72016732,\n",
       "          74.49316783,  86.11423234, 106.13338829, 138.89640059,\n",
       "         188.04747506, 255.06816929, 335.21933477, 414.22220739],\n",
       "        [ 31.62259356,  16.06238318,  15.41722766,  15.30593499,\n",
       "          15.72551691,  16.69141746,  18.28410771,  20.72019904,\n",
       "          24.36337429,  29.6876471 ,  37.33186498,  48.39400664,\n",
       "          65.04034451,  91.09668528, 133.05850557, 199.15417418],\n",
       "        [104.10226431,  11.49011887,  11.57101669,  11.81347946,\n",
       "          12.33069795,  13.30103516,  14.88541126,  17.1622739 ,\n",
       "          20.06287006,  23.46128811,  27.56269949,  33.19453831,\n",
       "          41.45379595,  53.47073168,  72.29157866, 106.37809873],\n",
       "        [192.02097211,  12.15441323,  12.8909679 ,  14.039893  ,\n",
       "          15.61542062,  17.55104714,  19.66471667,  21.79082793,\n",
       "          24.08176448,  27.17111888,  31.88427569,  38.62357562,\n",
       "          47.31591604,  58.06116978,  72.34053465,  96.32301307],\n",
       "        [234.52984133,  16.51738716,  18.2902274 ,  19.94839887,\n",
       "          21.33389393,  22.55700365,  24.01532156,  26.37251335,\n",
       "          30.37635821,  36.380909  ,  44.21560689,  53.36499908,\n",
       "          62.71544264,  71.42937029,  81.3956014 ,  99.81791827],\n",
       "        [248.52767032,  21.69979497,  22.3167656 ,  22.99032919,\n",
       "          24.10267562,  26.23338302,  30.05976826,  35.90808795,\n",
       "          43.61378168,  52.66378245,  61.77403003,  69.31759509,\n",
       "          74.75526849,  79.17687919,  85.73559863, 101.65876355]]])"
      ]
     },
     "execution_count": 5,
     "metadata": {},
     "output_type": "execute_result"
    }
   ],
   "source": [
    "mean_valid_errs"
   ]
  },
  {
   "cell_type": "markdown",
   "metadata": {},
   "source": [
    "Part b (free response)\n",
    "Examine the value of the matrix mean_valid_errs, whose (j; k)-th entry is the mean (across\n",
    "folds) validation error of bandwidth j and lambda k among the candidate sets bandwidth_ls and\n",
    "lambda_ls.\n",
    "\n",
    "Use your observation to justify the importance of selecting both the bandwidth h and the\n",
    "regularization parameter   in cross-validation.\n",
    "\n",
    "\n",
    "Solution: \n",
    "\n",
    "When we perform cross-validation, we examine all potential lambda-bandwidth pairs and select the set that provides us with optimal model performance. If we didn’t, we would likely create a model using sub-standard parameters, which would likely yield a poor model. It is also important that we examined both parameters together during cross-validation, as they do not influence the performance of the model independently. That is, we cannot first select the “best” lambda and use that model to then select the \n",
    "“best” bandwidth (or vice versa); they must be vali-dated in tandem.\n",
    "Looking at the mean_valid_errs list generated in this problem, we can see that cross validation allowed us to select from parameter candidates that yielded substantially varied error. Selecting our optimal lambda-bandwidth pair helped us reduce our error tenfold."
   ]
  },
  {
   "cell_type": "code",
   "execution_count": null,
   "metadata": {},
   "outputs": [],
   "source": []
  }
 ],
 "metadata": {
  "colab": {
   "provenance": []
  },
  "kernelspec": {
   "display_name": "Python 3 (ipykernel)",
   "language": "python",
   "name": "python3"
  },
  "language_info": {
   "codemirror_mode": {
    "name": "ipython",
    "version": 3
   },
   "file_extension": ".py",
   "mimetype": "text/x-python",
   "name": "python",
   "nbconvert_exporter": "python",
   "pygments_lexer": "ipython3",
   "version": "3.9.16"
  }
 },
 "nbformat": 4,
 "nbformat_minor": 1
}
